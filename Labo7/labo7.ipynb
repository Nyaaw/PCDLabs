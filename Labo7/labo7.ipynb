{
 "cells": [
  {
   "cell_type": "code",
   "execution_count": 29,
   "id": "d71d1ef5",
   "metadata": {},
   "outputs": [],
   "source": [
    "import pandas as pd\n",
    "\n",
    "def extract_short_features(window_size, signals):\n",
    "\n",
    "    print(\"extracting short features with window size \" + str(window_size))\n",
    "    short_features_with_headers = [feature_extraction(s, 44100, window_size, window_size) for s in signals]\n",
    "\n",
    "    headers = short_features_with_headers[0][1]\n",
    "\n",
    "    transposed = []\n",
    "    for j in range(len(short_features_with_headers[0][0])):\n",
    "        new_row = []\n",
    "        for row in short_features_with_headers:\n",
    "            new_row.append(row[0][j])\n",
    "        transposed.append(new_row)\n",
    "\n",
    "    return pd.DataFrame(transposed, index= headers).transpose(copy=False)\n"
   ]
  },
  {
   "cell_type": "code",
   "execution_count": 38,
   "id": "6056d716",
   "metadata": {},
   "outputs": [],
   "source": [
    "from numpy import linalg as la\n",
    "\n",
    "def short_features_distances(short_features_df):\n",
    "\n",
    "    distances_df = short_features_df.copy()\n",
    "\n",
    "    for j in range(0, 68):\n",
    "        for i in range(1, 8):\n",
    "            minlen = min(len(distances_df.iloc[0, j]), len(distances_df.iloc[i, j]))\n",
    "            distances_df.iloc[i, j] = la.norm(distances_df.iloc[0, j][:minlen] - distances_df.iloc[i, j][:minlen])\n",
    "            \n",
    "    distances_df.drop(0, inplace=True)\n",
    "    return distances_df"
   ]
  },
  {
   "cell_type": "code",
   "execution_count": 42,
   "id": "f6d5b42a",
   "metadata": {},
   "outputs": [
    {
     "name": "stdout",
     "output_type": "stream",
     "text": [
      "extracting short features with window size 1000\n",
      "extracting short features with window size 2000\n",
      "extracting short features with window size 5000\n",
      "extracting short features with window size 10000\n"
     ]
    }
   ],
   "source": [
    "from pyAudioAnalysis.pyAudioAnalysis.audioBasicIO import read_audio_file, stereo_to_mono\n",
    "from pyAudioAnalysis.pyAudioAnalysis.ShortTermFeatures import feature_extraction\n",
    "import scipy.stats as stats\n",
    "\n",
    "signals = [stereo_to_mono(read_audio_file(f\"data/{i}.mp3\")[1]) for i in range(0, 8)]\n",
    "\n",
    "short_1000 = short_features_distances(extract_short_features(1000, signals))\n",
    "short_2000 = short_features_distances(extract_short_features(2000, signals))\n",
    "short_5000 = short_features_distances(extract_short_features(5000, signals))\n",
    "short_10000 = short_features_distances(extract_short_features(10000, signals))"
   ]
  },
  {
   "cell_type": "code",
   "execution_count": null,
   "id": "d2dd2e0d",
   "metadata": {},
   "outputs": [
    {
     "data": {
      "application/vnd.microsoft.datawrangler.viewer.v0+json": {
       "columns": [
        {
         "name": "index",
         "rawType": "object",
         "type": "string"
        },
        {
         "name": "correlation1000",
         "rawType": "object",
         "type": "unknown"
        },
        {
         "name": "correlation2000",
         "rawType": "object",
         "type": "unknown"
        },
        {
         "name": "correlation5000",
         "rawType": "object",
         "type": "unknown"
        },
        {
         "name": "correlation10000",
         "rawType": "object",
         "type": "unknown"
        }
       ],
       "conversionMethod": "pd.DataFrame",
       "ref": "a2c3d01f-e0c1-46b2-9a86-a272245d66e9",
       "rows": [
        [
         "zcr",
         "0.01369732661532562",
         "0.01369732661532562",
         "0.01369732661532562",
         "0.01369732661532562"
        ],
        [
         "energy",
         "0.05218140045705776",
         "0.05218140045705776",
         "0.05218140045705776",
         "0.023448808345691505"
        ],
        [
         "energy_entropy",
         "0.25316999510032273",
         "0.21521745567801273",
         "0.0937502539598313",
         "0.25316999510032273"
        ],
        [
         "spectral_centroid",
         "0.01369732661532562",
         "0.01369732661532562",
         "0.01369732661532562",
         "0.01369732661532562"
        ],
        [
         "spectral_spread",
         "0.8191508555699912",
         "0.8191508555699912",
         "0.8790481931481541",
         "0.6445115810207203"
        ],
        [
         "spectral_entropy",
         "0.0025194724037946874",
         "0.0025194724037946874",
         "0.0025194724037946874",
         "0.0025194724037946874"
        ],
        [
         "spectral_flux",
         "0.07134356146753759",
         "0.21521745567801273",
         "0.11939237342741094",
         "0.7599453002180929"
        ],
        [
         "spectral_rolloff",
         "0.0025194724037946874",
         "0.0025194724037946874",
         "0.0025194724037946874",
         "0.0025194724037946874"
        ],
        [
         "mfcc_1",
         "0.006807187408935392",
         "0.0025194724037946874",
         "0.0025194724037946874",
         "0.0004541491691941689"
        ],
        [
         "mfcc_2",
         "0.337368311085824",
         "0.4820720382996776",
         "0.4820720382996776",
         "0.4820720382996776"
        ],
        [
         "mfcc_3",
         "0.07134356146753759",
         "0.05218140045705776",
         "0.03623846267982713",
         "0.01369732661532562"
        ],
        [
         "mfcc_4",
         "0.4820720382996776",
         "0.4316113520383278",
         "0.4820720382996776",
         "0.4316113520383278"
        ],
        [
         "mfcc_5",
         "0.11939237342741094",
         "0.11939237342741094",
         "0.0937502539598313",
         "0.11939237342741094"
        ],
        [
         "mfcc_6",
         "0.03623846267982713",
         "0.337368311085824",
         "0.2939341076002517",
         "0.337368311085824"
        ],
        [
         "mfcc_7",
         "0.4316113520383278",
         "0.4316113520383278",
         "0.4316113520383278",
         "0.4316113520383278"
        ],
        [
         "mfcc_8",
         "0.03623846267982713",
         "0.1482311614811614",
         "0.1482311614811614",
         "0.1802019889115274"
        ],
        [
         "mfcc_9",
         "0.4316113520383278",
         "0.6445115810207203",
         "0.4820720382996776",
         "0.6445115810207203"
        ],
        [
         "mfcc_10",
         "0.11939237342741094",
         "0.1482311614811614",
         "0.1482311614811614",
         "0.7599453002180929"
        ],
        [
         "mfcc_11",
         "0.4316113520383278",
         "0.9394082054712856",
         "0.9394082054712856",
         "0.9394082054712856"
        ],
        [
         "mfcc_12",
         "0.023448808345691505",
         "0.07134356146753759",
         "0.07134356146753759",
         "0.5345092286010406"
        ],
        [
         "mfcc_13",
         "0.25316999510032273",
         "0.4316113520383278",
         "0.38331687042697266",
         "0.38331687042697266"
        ],
        [
         "chroma_1",
         "0.7599453002180929",
         "0.4316113520383278",
         "0.5887244480896833",
         "0.7016579425162729"
        ],
        [
         "chroma_2",
         "0.8790481931481541",
         "0.6445115810207203",
         "0.25316999510032273",
         "0.2939341076002517"
        ],
        [
         "chroma_3",
         "0.6445115810207203",
         "0.7016579425162729",
         "0.07134356146753759",
         "0.8790481931481541"
        ],
        [
         "chroma_4",
         "0.03623846267982713",
         "0.023448808345691505",
         "0.337368311085824",
         "0.337368311085824"
        ],
        [
         "chroma_5",
         "0.11939237342741094",
         "0.8790481931481541",
         "0.03623846267982713",
         "0.0025194724037946874"
        ],
        [
         "chroma_6",
         "0.8790481931481541",
         "0.4316113520383278",
         "0.4820720382996776",
         "0.8191508555699912"
        ],
        [
         "chroma_7",
         "0.11939237342741094",
         "0.8191508555699912",
         "0.1802019889115274",
         "0.21521745567801273"
        ],
        [
         "chroma_8",
         "0.38331687042697266",
         "0.9394082054712856",
         "0.6445115810207203",
         "0.4820720382996776"
        ],
        [
         "chroma_9",
         "0.023448808345691505",
         "0.1802019889115274",
         "0.07134356146753759",
         "0.337368311085824"
        ],
        [
         "chroma_10",
         "0.21521745567801273",
         "0.1802019889115274",
         "0.8790481931481541",
         "0.6445115810207203"
        ],
        [
         "chroma_11",
         "0.07134356146753759",
         "0.4316113520383278",
         "0.05218140045705776",
         "0.023448808345691505"
        ],
        [
         "chroma_12",
         "0.8790481931481541",
         "0.4820720382996776",
         "0.4316113520383278",
         "0.7599453002180929"
        ],
        [
         "chroma_std",
         "0.03623846267982713",
         "0.1802019889115274",
         "0.07134356146753759",
         "0.1802019889115274"
        ],
        [
         "delta zcr",
         "0.0025194724037946874",
         "0.0004541491691941689",
         "0.006807187408935392",
         "0.01369732661532562"
        ],
        [
         "delta energy",
         "0.1482311614811614",
         "0.1482311614811614",
         "0.1482311614811614",
         "0.11939237342741094"
        ],
        [
         "delta energy_entropy",
         "0.21521745567801273",
         "0.7599453002180929",
         "0.21521745567801273",
         "0.337368311085824"
        ],
        [
         "delta spectral_centroid",
         "0.8790481931481541",
         "0.1802019889115274",
         "0.1482311614811614",
         "0.023448808345691505"
        ],
        [
         "delta spectral_spread",
         "0.5345092286010406",
         "0.4316113520383278",
         "0.4316113520383278",
         "0.4316113520383278"
        ],
        [
         "delta spectral_entropy",
         "0.0004541491691941689",
         "0.0025194724037946874",
         "0.0025194724037946874",
         "0.0025194724037946874"
        ],
        [
         "delta spectral_flux",
         "0.05218140045705776",
         "0.21521745567801273",
         "0.25316999510032273",
         "0.6445115810207203"
        ],
        [
         "delta spectral_rolloff",
         "0.0025194724037946874",
         "0.0025194724037946874",
         "0.0025194724037946874",
         "0.01369732661532562"
        ],
        [
         "delta mfcc_1",
         "0.05218140045705776",
         "0.337368311085824",
         "0.0937502539598313",
         "0.1802019889115274"
        ],
        [
         "delta mfcc_2",
         "0.9394082054712856",
         "0.9394082054712856",
         "0.9394082054712856",
         "0.4820720382996776"
        ],
        [
         "delta mfcc_3",
         "0.11939237342741094",
         "0.05218140045705776",
         "0.03623846267982713",
         "0.05218140045705776"
        ],
        [
         "delta mfcc_4",
         "0.1802019889115274",
         "0.1802019889115274",
         "0.7599453002180929",
         "0.4316113520383278"
        ],
        [
         "delta mfcc_5",
         "0.0937502539598313",
         "0.05218140045705776",
         "0.2939341076002517",
         "0.337368311085824"
        ],
        [
         "delta mfcc_6",
         "0.07134356146753759",
         "0.05218140045705776",
         "0.01369732661532562",
         "0.1802019889115274"
        ],
        [
         "delta mfcc_7",
         "0.03623846267982713",
         "0.05218140045705776",
         "0.21521745567801273",
         "0.337368311085824"
        ],
        [
         "delta mfcc_8",
         "0.01369732661532562",
         "0.07134356146753759",
         "0.1802019889115274",
         "0.7599453002180929"
        ]
       ],
       "shape": {
        "columns": 4,
        "rows": 68
       }
      },
      "text/html": [
       "<div>\n",
       "<style scoped>\n",
       "    .dataframe tbody tr th:only-of-type {\n",
       "        vertical-align: middle;\n",
       "    }\n",
       "\n",
       "    .dataframe tbody tr th {\n",
       "        vertical-align: top;\n",
       "    }\n",
       "\n",
       "    .dataframe thead th {\n",
       "        text-align: right;\n",
       "    }\n",
       "</style>\n",
       "<table border=\"1\" class=\"dataframe\">\n",
       "  <thead>\n",
       "    <tr style=\"text-align: right;\">\n",
       "      <th></th>\n",
       "      <th>correlation1000</th>\n",
       "      <th>correlation2000</th>\n",
       "      <th>correlation5000</th>\n",
       "      <th>correlation10000</th>\n",
       "    </tr>\n",
       "  </thead>\n",
       "  <tbody>\n",
       "    <tr>\n",
       "      <th>zcr</th>\n",
       "      <td>0.013697</td>\n",
       "      <td>0.013697</td>\n",
       "      <td>0.013697</td>\n",
       "      <td>0.013697</td>\n",
       "    </tr>\n",
       "    <tr>\n",
       "      <th>energy</th>\n",
       "      <td>0.052181</td>\n",
       "      <td>0.052181</td>\n",
       "      <td>0.052181</td>\n",
       "      <td>0.023449</td>\n",
       "    </tr>\n",
       "    <tr>\n",
       "      <th>energy_entropy</th>\n",
       "      <td>0.25317</td>\n",
       "      <td>0.215217</td>\n",
       "      <td>0.09375</td>\n",
       "      <td>0.25317</td>\n",
       "    </tr>\n",
       "    <tr>\n",
       "      <th>spectral_centroid</th>\n",
       "      <td>0.013697</td>\n",
       "      <td>0.013697</td>\n",
       "      <td>0.013697</td>\n",
       "      <td>0.013697</td>\n",
       "    </tr>\n",
       "    <tr>\n",
       "      <th>spectral_spread</th>\n",
       "      <td>0.819151</td>\n",
       "      <td>0.819151</td>\n",
       "      <td>0.879048</td>\n",
       "      <td>0.644512</td>\n",
       "    </tr>\n",
       "    <tr>\n",
       "      <th>...</th>\n",
       "      <td>...</td>\n",
       "      <td>...</td>\n",
       "      <td>...</td>\n",
       "      <td>...</td>\n",
       "    </tr>\n",
       "    <tr>\n",
       "      <th>delta chroma_9</th>\n",
       "      <td>0.013697</td>\n",
       "      <td>0.013697</td>\n",
       "      <td>0.071344</td>\n",
       "      <td>0.383317</td>\n",
       "    </tr>\n",
       "    <tr>\n",
       "      <th>delta chroma_10</th>\n",
       "      <td>0.939408</td>\n",
       "      <td>0.215217</td>\n",
       "      <td>0.879048</td>\n",
       "      <td>0.534509</td>\n",
       "    </tr>\n",
       "    <tr>\n",
       "      <th>delta chroma_11</th>\n",
       "      <td>0.759945</td>\n",
       "      <td>0.644512</td>\n",
       "      <td>0.052181</td>\n",
       "      <td>0.023449</td>\n",
       "    </tr>\n",
       "    <tr>\n",
       "      <th>delta chroma_12</th>\n",
       "      <td>0.879048</td>\n",
       "      <td>0.644512</td>\n",
       "      <td>0.293934</td>\n",
       "      <td>0.759945</td>\n",
       "    </tr>\n",
       "    <tr>\n",
       "      <th>delta chroma_std</th>\n",
       "      <td>0.036238</td>\n",
       "      <td>0.148231</td>\n",
       "      <td>0.071344</td>\n",
       "      <td>0.09375</td>\n",
       "    </tr>\n",
       "  </tbody>\n",
       "</table>\n",
       "<p>68 rows × 4 columns</p>\n",
       "</div>"
      ],
      "text/plain": [
       "                  correlation1000 correlation2000 correlation5000  \\\n",
       "zcr                      0.013697        0.013697        0.013697   \n",
       "energy                   0.052181        0.052181        0.052181   \n",
       "energy_entropy            0.25317        0.215217         0.09375   \n",
       "spectral_centroid        0.013697        0.013697        0.013697   \n",
       "spectral_spread          0.819151        0.819151        0.879048   \n",
       "...                           ...             ...             ...   \n",
       "delta chroma_9           0.013697        0.013697        0.071344   \n",
       "delta chroma_10          0.939408        0.215217        0.879048   \n",
       "delta chroma_11          0.759945        0.644512        0.052181   \n",
       "delta chroma_12          0.879048        0.644512        0.293934   \n",
       "delta chroma_std         0.036238        0.148231        0.071344   \n",
       "\n",
       "                  correlation10000  \n",
       "zcr                       0.013697  \n",
       "energy                    0.023449  \n",
       "energy_entropy             0.25317  \n",
       "spectral_centroid         0.013697  \n",
       "spectral_spread           0.644512  \n",
       "...                            ...  \n",
       "delta chroma_9            0.383317  \n",
       "delta chroma_10           0.534509  \n",
       "delta chroma_11           0.023449  \n",
       "delta chroma_12           0.759945  \n",
       "delta chroma_std           0.09375  \n",
       "\n",
       "[68 rows x 4 columns]"
      ]
     },
     "execution_count": 43,
     "metadata": {},
     "output_type": "execute_result"
    }
   ],
   "source": [
    "perfect = [1,2,3,4,5,6,7]\n",
    "cors = pd.DataFrame(columns = [\"correlation1000\", \"correlation2000\", \"correlation5000\", \"correlation10000\"], index = short_1000.columns)\n",
    "\n",
    "for col in cors.index:\n",
    "    cors.loc[col, \"correlation1000\"] = stats.spearmanr(short_1000.loc[:,col], perfect)[1]\n",
    "    cors.loc[col, \"correlation2000\"] = stats.spearmanr(short_2000.loc[:,col], perfect)[1]\n",
    "    cors.loc[col, \"correlation5000\"] = stats.spearmanr(short_5000.loc[:,col], perfect)[1]\n",
    "    cors.loc[col, \"correlation10000\"] = stats.spearmanr(short_10000.loc[:,col], perfect)[1]\n",
    "\n",
    "cors"
   ]
  }
 ],
 "metadata": {
  "kernelspec": {
   "display_name": ".venv",
   "language": "python",
   "name": "python3"
  },
  "language_info": {
   "codemirror_mode": {
    "name": "ipython",
    "version": 3
   },
   "file_extension": ".py",
   "mimetype": "text/x-python",
   "name": "python",
   "nbconvert_exporter": "python",
   "pygments_lexer": "ipython3",
   "version": "3.13.3"
  }
 },
 "nbformat": 4,
 "nbformat_minor": 5
}
