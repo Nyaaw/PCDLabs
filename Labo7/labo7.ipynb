{
 "cells": [
  {
   "cell_type": "code",
   "execution_count": null,
   "id": "6962533e",
   "metadata": {},
   "outputs": [],
   "source": [
    "from pyAudioAnalysis.pyAudioAnalysis.audioBasicIO import read_audio_file, stereo_to_mono\n",
    "from pyAudioAnalysis.pyAudioAnalysis.ShortTermFeatures import feature_extraction\n",
    "\n",
    "signals = [stereo_to_mono(read_audio_file(f\"data/{i}.mp3\")[1]) for i in range(0, 8)]"
   ]
  },
  {
   "cell_type": "code",
   "execution_count": null,
   "id": "c323cdc9",
   "metadata": {},
   "outputs": [
    {
     "ename": "ValueError",
     "evalue": "The truth value of an array with more than one element is ambiguous. Use a.any() or a.all()",
     "output_type": "error",
     "traceback": [
      "\u001b[31m---------------------------------------------------------------------------\u001b[39m",
      "\u001b[31mValueError\u001b[39m                                Traceback (most recent call last)",
      "\u001b[36mCell\u001b[39m\u001b[36m \u001b[39m\u001b[32mIn[33]\u001b[39m\u001b[32m, line 6\u001b[39m\n\u001b[32m      4\u001b[39m headers = []\n\u001b[32m      5\u001b[39m \u001b[38;5;28;01mfor\u001b[39;00m index, val \u001b[38;5;129;01min\u001b[39;00m short_features_with_headers:\n\u001b[32m----> \u001b[39m\u001b[32m6\u001b[39m     \u001b[38;5;28;01mif\u001b[39;00m \u001b[43mindex\u001b[49m\u001b[43m \u001b[49m\u001b[43m==\u001b[49m\u001b[43m \u001b[49m\u001b[32;43m0\u001b[39;49m:\n\u001b[32m      7\u001b[39m         headers = val[\u001b[32m1\u001b[39m]\n\u001b[32m      8\u001b[39m     short_features.append(val[\u001b[32m0\u001b[39m])\n",
      "\u001b[31mValueError\u001b[39m: The truth value of an array with more than one element is ambiguous. Use a.any() or a.all()"
     ]
    }
   ],
   "source": [
    "short_features_with_headers = [feature_extraction(s, 44100, 1000, 1000) for s in signals]"
   ]
  },
  {
   "cell_type": "code",
   "execution_count": 79,
   "id": "d71d1ef5",
   "metadata": {},
   "outputs": [],
   "source": [
    "short_features = []\n",
    "headers = []\n",
    "for index, val in enumerate(short_features_with_headers):\n",
    "    if index == 0:\n",
    "        headers = val[1]\n",
    "    short_features.append(val[0])"
   ]
  },
  {
   "cell_type": "code",
   "execution_count": null,
   "id": "38fca42b",
   "metadata": {},
   "outputs": [
    {
     "data": {
      "text/plain": [
       "array([[0.00000000e+00, 0.00000000e+00, 0.00000000e+00, ...,\n",
       "        0.00000000e+00, 0.00000000e+00, 0.00000000e+00],\n",
       "       [4.60549040e-09, 4.60549040e-09, 4.60549040e-09, ...,\n",
       "        4.60549040e-09, 4.60549040e-09, 4.60549040e-09],\n",
       "       [3.32192809e+00, 3.32192809e+00, 3.32192809e+00, ...,\n",
       "        3.32192809e+00, 3.32192809e+00, 3.32192809e+00],\n",
       "       ...,\n",
       "       [0.00000000e+00, 0.00000000e+00, 0.00000000e+00, ...,\n",
       "        0.00000000e+00, 0.00000000e+00, 0.00000000e+00],\n",
       "       [0.00000000e+00, 0.00000000e+00, 0.00000000e+00, ...,\n",
       "        0.00000000e+00, 0.00000000e+00, 0.00000000e+00],\n",
       "       [0.00000000e+00, 0.00000000e+00, 0.00000000e+00, ...,\n",
       "        0.00000000e+00, 0.00000000e+00, 0.00000000e+00]], shape=(68, 7072))"
      ]
     },
     "execution_count": 90,
     "metadata": {},
     "output_type": "execute_result"
    }
   ],
   "source": [
    "import pandas as pd\n",
    "\n",
    "pd.DataFrame(short_features, )"
   ]
  },
  {
   "cell_type": "code",
   "execution_count": null,
   "id": "6056d716",
   "metadata": {},
   "outputs": [],
   "source": [
    "distances = []\n",
    "\n",
    "for song, sindex in short_features[1:]:\n",
    "    distances.append([])\n",
    "    for feature in headers:\n",
    "        distances[sindex].append()"
   ]
  }
 ],
 "metadata": {
  "kernelspec": {
   "display_name": ".venv",
   "language": "python",
   "name": "python3"
  },
  "language_info": {
   "codemirror_mode": {
    "name": "ipython",
    "version": 3
   },
   "file_extension": ".py",
   "mimetype": "text/x-python",
   "name": "python",
   "nbconvert_exporter": "python",
   "pygments_lexer": "ipython3",
   "version": "3.13.3"
  }
 },
 "nbformat": 4,
 "nbformat_minor": 5
}
