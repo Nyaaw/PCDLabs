{
 "cells": [
  {
   "cell_type": "code",
   "execution_count": null,
   "id": "6962533e",
   "metadata": {},
   "outputs": [],
   "source": [
    "from pyAudioAnalysis.pyAudioAnalysis.audioBasicIO import read_audio_file, stereo_to_mono\n",
    "\n",
    "signals = [stereo_to_mono(read_audio_file(f\"data/{i}.mp3\")[1]) for i in range(0, 8)]\n",
    "\n"
   ]
  }
 ],
 "metadata": {
  "kernelspec": {
   "display_name": ".venv",
   "language": "python",
   "name": "python3"
  },
  "language_info": {
   "codemirror_mode": {
    "name": "ipython",
    "version": 3
   },
   "file_extension": ".py",
   "mimetype": "text/x-python",
   "name": "python",
   "nbconvert_exporter": "python",
   "pygments_lexer": "ipython3",
   "version": "3.13.3"
  }
 },
 "nbformat": 4,
 "nbformat_minor": 5
}
