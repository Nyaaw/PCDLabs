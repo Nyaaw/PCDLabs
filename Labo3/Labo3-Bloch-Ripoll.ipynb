{
 "cells": [
  {
   "cell_type": "code",
   "metadata": {
    "ExecuteTime": {
     "end_time": "2025-03-05T13:32:40.735553Z",
     "start_time": "2025-03-05T13:32:40.733175Z"
    }
   },
   "source": [
    "import matplotlib.pyplot as plt\n",
    "import pandas as pd\n",
    "from sklearn.impute import SimpleImputer, KNNImputer\n",
    "from sklearn.tree import DecisionTreeClassifier\n",
    "from sklearn.ensemble import RandomForestClassifier, IsolationForest\n",
    "from sklearn.metrics import f1_score\n",
    "from sklearn.model_selection import train_test_split\n",
    "from sklearn.neighbors import KNeighborsClassifier"
   ],
   "outputs": [],
   "execution_count": 31
  },
  {
   "metadata": {
    "ExecuteTime": {
     "end_time": "2025-03-05T13:41:49.078107Z",
     "start_time": "2025-03-05T13:41:49.008349Z"
    }
   },
   "cell_type": "code",
   "source": [
    "# Etape 1 - Chargement des données\n",
    "df = pd.read_csv('./data/employee-earnings-report-2021.csv', encoding='ISO-8859-1')\n",
    "\n",
    "# Etape 2 - On enlève les lignes vides\n",
    "df = df.dropna(how='all')\n",
    "\n",
    "# Etape 3 - Convertir en valeurs numériques Python\n",
    "numeric_columns = ['REGULAR', 'RETRO', 'OTHER', 'OVERTIME', 'INJURED', 'DETAIL', 'QUINN_EDUCATION_INCENTIVE', 'TOTAL_GROSS']\n",
    "\n",
    "def clean_numeric_column(column):\n",
    "    # On supporte le format numérique monétaire bizarre des états-unis\n",
    "    return column.apply(lambda x: str(x).replace(',', '') if isinstance(x, str) else x).astype(float)\n",
    "\n",
    "for column in numeric_columns:\n",
    "    df[column] = clean_numeric_column(df[column])"
   ],
   "outputs": [],
   "execution_count": 36
  },
  {
   "metadata": {
    "ExecuteTime": {
     "end_time": "2025-03-05T13:41:50.900709Z",
     "start_time": "2025-03-05T13:41:50.775071Z"
    }
   },
   "cell_type": "code",
   "source": [
    "# Etape 4 - Chercher des données aberrantes\n",
    "\n",
    "model = IsolationForest(contamination=0.05)\n",
    "df['outlier'] = model.fit_predict(df[numeric_columns])\n",
    "outliers = df[df['outlier'] == -1]\n",
    "outlier_count = len(outliers)\n",
    "\n",
    "print(f\"Number of outliers detected: {outlier_count}\")\n",
    "\n",
    "# S'il y a des outliers, on en enlève au plus 6 comme indiqué dans la donnée\n",
    "if outlier_count > 0:\n",
    "    df['anomaly_score'] = model.decision_function(df[numeric_columns])\n",
    "    top_6_outliers = df.nlargest(6, 'anomaly_score')\n",
    "\n",
    "    df = df.drop(top_6_outliers.index).drop(['outlier', 'anomaly_score'], axis=1)\n",
    "else:\n",
    "    print(\"No outliers detected.\")"
   ],
   "outputs": [
    {
     "name": "stdout",
     "output_type": "stream",
     "text": [
      "Number of outliers detected: 1128\n"
     ]
    }
   ],
   "execution_count": 37
  },
  {
   "metadata": {
    "ExecuteTime": {
     "end_time": "2025-03-05T13:41:52.832213Z",
     "start_time": "2025-03-05T13:41:52.827947Z"
    }
   },
   "cell_type": "code",
   "source": [
    "# Etape 5 - Préparation des données pour prédiction\n",
    "\n",
    "# Ces colonnes ne sont pas pertinentes pour prédire les valeurs\n",
    "df = df.drop(['NAME', 'TITLE', 'POSTAL'], axis=1)"
   ],
   "outputs": [],
   "execution_count": 38
  },
  {
   "metadata": {
    "ExecuteTime": {
     "end_time": "2025-03-05T13:44:57.750596Z",
     "start_time": "2025-03-05T13:43:21.595476Z"
    }
   },
   "cell_type": "code",
   "source": [
    "from sklearn.experimental import enable_iterative_imputer\n",
    "from sklearn.impute import IterativeImputer\n",
    "from sklearn.preprocessing import LabelEncoder\n",
    "\n",
    "le = LabelEncoder()\n",
    "df['DEPARTMENT_NAME'] = le.fit_transform(df['DEPARTMENT_NAME'].fillna('Unknown'))\n",
    "\n",
    "# Séparation des données en attributs et cible\n",
    "X = df[numeric_columns]\n",
    "y = df['DEPARTMENT_NAME']\n",
    "\n",
    "# Division en ensembles d'entraînement et de test\n",
    "X_train, X_test, y_train, y_test = train_test_split(X, y, test_size=0.1, random_state=42)\n",
    "\n",
    "# Méthodes d'imputation\n",
    "imputers = {\n",
    "    'zero': SimpleImputer(strategy='constant', fill_value=0),\n",
    "    'median': SimpleImputer(strategy='median'),\n",
    "    'KNN': KNNImputer(n_neighbors=5),\n",
    "    'iterative': IterativeImputer(max_iter=10, random_state=42)\n",
    "}\n",
    "\n",
    "# Classifiers\n",
    "classifiers = {\n",
    "    'KNN': KNeighborsClassifier(),\n",
    "    'Decision Tree': DecisionTreeClassifier(random_state=42),\n",
    "    'Random Forest': RandomForestClassifier(random_state=42)\n",
    "}\n",
    "\n",
    "# Fonction pour évaluer les modèles et calculer les scores F1\n",
    "def evaluate_models(imputer, classifier):\n",
    "    # Applique l'imputation sur l'ensemble d'entraînement\n",
    "    X_train_imputed = imputer.fit_transform(X_train)\n",
    "    X_test_imputed = imputer.transform(X_test)\n",
    "\n",
    "    # Entraînement du classifieur\n",
    "    classifier.fit(X_train_imputed, y_train)\n",
    "\n",
    "    # Prédiction\n",
    "    y_pred = classifier.predict(X_test_imputed)\n",
    "\n",
    "    # Calcul des scores F1 micro et macro\n",
    "    f1_micro = f1_score(y_test, y_pred, average='micro')\n",
    "    f1_macro = f1_score(y_test, y_pred, average='macro')\n",
    "\n",
    "    return f1_micro, f1_macro\n",
    "\n",
    "# Test des combinaisons d'imputation et de classifieurs\n",
    "results = []\n",
    "for imputer_name, imputer in imputers.items():\n",
    "    for clf_name, clf in classifiers.items():\n",
    "        f1_micro, f1_macro = evaluate_models(imputer, clf)\n",
    "        results.append((imputer_name, clf_name, f1_micro, f1_macro))\n",
    "\n",
    "# Conversion des résultats en DataFrame pour affichage\n",
    "import pandas as pd\n",
    "results_df = pd.DataFrame(results, columns=['Imputer', 'Classifier', 'F1 Micro', 'F1 Macro'])\n"
   ],
   "outputs": [],
   "execution_count": 41
  },
  {
   "metadata": {
    "ExecuteTime": {
     "end_time": "2025-03-05T13:45:57.825598Z",
     "start_time": "2025-03-05T13:45:57.765631Z"
    }
   },
   "cell_type": "code",
   "source": [
    "# Step 8: Visualize the results with matplotlib\n",
    "fig, ax = plt.subplots(figsize=(10, 6))\n",
    "\n",
    "imputation_order = ['zero', 'median', 'KNN', 'iterative']\n",
    "\n",
    "pivot_df = results_df.pivot(index='Imputer', columns='Classifier', values='F1 Micro')\n",
    "pivot_df = pivot_df.loc[imputation_order]\n",
    "\n",
    "pivot_df.plot(kind='bar', ax=ax)\n",
    "\n",
    "ax.set_title(\"F1 Scores for Different Imputation Methods and Classifiers\")\n",
    "ax.set_xlabel(\"Imputation Methods\")\n",
    "ax.set_ylabel(\"F1 Score (Micro)\")\n",
    "ax.legend(title=\"Classifiers\")\n",
    "plt.xticks(rotation=45)\n",
    "plt.tight_layout()\n",
    "\n",
    "# Show the plot\n",
    "plt.show()"
   ],
   "outputs": [
    {
     "data": {
      "text/plain": [
       "<Figure size 1000x600 with 1 Axes>"
      ],
      "image/png": "[encoded data removed]"
     },
     "metadata": {},
     "output_type": "display_data"
    }
   ],
   "execution_count": 49
  },
  {
   "metadata": {},
   "cell_type": "markdown",
   "source": [
    "## Questions & Réponses\n",
    "\n",
    "### Etape 2\n",
    "\n",
    "> Combien de lignes et de colonnes a le Data Frame ?\n",
    "\n",
    "`22552` lignes et `12` colonnes.\n",
    "\n",
    "> Pour chaque colonne, combien y a-t-il de\n",
    "données manquantes ?\n",
    "\n",
    "- **NAME**: 6\n",
    "- **DEPARTMENT_NAME**: 6\n",
    "- **TITLE**: 6\n",
    "- **REGULAR**: 644\n",
    "- **RETRO**: 22,150\n",
    "- **OTHER**: 8,423\n",
    "- **OVERTIME**: 15,706\n",
    "- **INJURED**: 21,096\n",
    "- **DETAIL**: 20,493\n",
    "- **QUINN_EDUCATION_INCENTIVE**: 21,166\n",
    "- **TOTAL_GROSS**: 6\n",
    "- **POSTAL**: 6\n",
    "\n",
    "> Y a-t-il des lignes entièrement vides ?\n",
    "\n",
    "Oui, il y en a 6.\n",
    "\n",
    "### Etape 6\n",
    "\n",
    "> Existe-t-il des classifieurs dans Scikit-learn qui acceptent des données manquantes ?\n",
    "\n",
    "Oui, nous avons trouvé ce classifieur dans la doc de scikit-learn :\n",
    "\n",
    "**HistGradientBoostingClassifier** ([Documentation](https://scikit-learn.org/stable/modules/generated/sklearn.ensemble.HistGradientBoostingClassifier.html))"
   ]
  },
  {
   "metadata": {
    "ExecuteTime": {
     "end_time": "2025-03-05T13:31:09.744784Z",
     "start_time": "2025-03-05T13:31:09.743376Z"
    }
   },
   "cell_type": "code",
   "source": "",
   "outputs": [],
   "execution_count": null
  }
 ],
 "metadata": {
  "language_info": {
   "name": "python"
  },
  "kernelspec": {
   "name": "python3",
   "language": "python",
   "display_name": "Python 3 (ipykernel)"
  }
 },
 "nbformat": 4,
 "nbformat_minor": 2
}
