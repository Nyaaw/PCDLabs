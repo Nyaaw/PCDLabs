{
 "cells": [
  {
   "cell_type": "code",
   "metadata": {
    "ExecuteTime": {
     "end_time": "2025-03-05T13:04:10.381587Z",
     "start_time": "2025-03-05T13:04:10.141634Z"
    }
   },
   "source": [
    "from sklearn.ensemble import IsolationForest\n",
    "import pandas as pd\n",
    "\n",
    "# Etape 1 - Chargement des données\n",
    "\n",
    "df = pd.read_csv('./data/employee-earnings-report-2021.csv', encoding='ISO-8859-1')\n",
    "\n",
    "# Etape 2 - On enlève les lignes vides\n",
    "\n",
    "df = df.dropna(how='all')\n",
    "\n",
    "# Etape 3 - Convertir en valeurs numériques Python\n",
    "\n",
    "numeric_columns = ['REGULAR', 'RETRO', 'OTHER', 'OVERTIME', 'INJURED', 'DETAIL', 'QUINN_EDUCATION_INCENTIVE', 'TOTAL_GROSS']\n",
    "\n",
    "def clean_numeric_column(column):\n",
    "    return column.apply(lambda x: str(x).replace(',', '') if isinstance(x, str) else x).astype(float)\n",
    "\n",
    "for column in numeric_columns:\n",
    "    df[column] = clean_numeric_column(df[column])\n",
    "\n",
    "# Etape 4 - Chercher des données aberrantes\n",
    "\n",
    "model = IsolationForest(contamination=0.05)\n",
    "\n",
    "df['outlier'] = model.fit_predict(df[numeric_columns])\n",
    "df['anomaly_score'] = model.decision_function(df[numeric_columns])\n",
    "top_6_outliers = df.nlargest(6, 'anomaly_score')\n",
    "\n",
    "df_cleaned = df.drop(top_6_outliers.index).drop(['outlier', 'anomaly_score'], axis=1)\n",
    "\n",
    "print(df_cleaned)\n",
    "\n",
    "# Etape 5 -\n"
   ],
   "outputs": [
    {
     "name": "stdout",
     "output_type": "stream",
     "text": [
      "                             NAME               DEPARTMENT_NAME  \\\n",
      "0                 Beckers,Richard      Boston Police Department   \n",
      "1           McGowan,Jacqueline M.      Boston Police Department   \n",
      "2                  Harris,Shawn N      Boston Police Department   \n",
      "3               Washington,Walter      Boston Police Department   \n",
      "4               Mosley Jr.,Curtis      Boston Police Department   \n",
      "...                           ...                           ...   \n",
      "22541  Bartholomew,Joseph William         BPS Special Education   \n",
      "22542       Rabouin,Shante Evelin  BPS Substitute Teachers/Nurs   \n",
      "22543           Francisco,Carla E           Tech Boston Academy   \n",
      "22544              Ellis,Nicole L          Food & Nutrition Svc   \n",
      "22545             Smith,Wayne Lee         Boston Public Library   \n",
      "\n",
      "                                TITLE    REGULAR  RETRO       OTHER  OVERTIME  \\\n",
      "0                      Police Officer        NaN    NaN  1264843.63       NaN   \n",
      "1                      Police Officer        NaN    NaN  1252990.81       NaN   \n",
      "2      Police Offc Comm Serv Offc 3$8   69772.10    NaN   212739.48  82300.87   \n",
      "3                      Police Officer  100963.38    NaN   211900.28  67849.66   \n",
      "4      Police Offc Comm Serv Offc 3$8  109858.02    NaN   192097.54  75938.65   \n",
      "...                               ...        ...    ...         ...       ...   \n",
      "22541              Assistant Director        NaN  69.86         NaN       NaN   \n",
      "22542              Substitute Teacher        NaN    NaN         NaN     59.78   \n",
      "22543   Part-Time Cafeteria Attendant        NaN    NaN       56.62       NaN   \n",
      "22544  Substitute Cafeteria Attendant      54.00    NaN         NaN       NaN   \n",
      "22545                         Laborer       1.00    NaN       25.00       NaN   \n",
      "\n",
      "        INJURED   DETAIL  QUINN_EDUCATION_INCENTIVE  TOTAL_GROSS POSTAL  \n",
      "0           NaN      NaN                        NaN   1264843.63  02119  \n",
      "1           NaN      NaN                        NaN   1252990.81  02129  \n",
      "2      30939.24  12144.0                   25178.06    433073.75  02130  \n",
      "3           NaN   9016.0                   10096.55    399825.87  02368  \n",
      "4           NaN  19550.0                        NaN    397444.21  02301  \n",
      "...         ...      ...                        ...          ...    ...  \n",
      "22541       NaN      NaN                        NaN        69.86  02131  \n",
      "22542       NaN      NaN                        NaN        59.78  02180  \n",
      "22543       NaN      NaN                        NaN        56.62  02121  \n",
      "22544       NaN      NaN                        NaN        54.00  02111  \n",
      "22545       NaN      NaN                        NaN        26.00  02121  \n",
      "\n",
      "[22540 rows x 12 columns]\n"
     ]
    }
   ],
   "execution_count": 17
  },
  {
   "metadata": {},
   "cell_type": "markdown",
   "source": [
    "## Questions & Réponses\n",
    "\n",
    "### Etape 2\n",
    "\n",
    "> Combien de lignes et de colonnes a le Data Frame ?\n",
    "\n",
    "`22552` lignes et `12` colonnes.\n",
    "\n",
    "> Pour chaque colonne, combien y a-t-il de\n",
    "données manquantes ?\n",
    "\n",
    "- **NAME**: 6\n",
    "- **DEPARTMENT_NAME**: 6\n",
    "- **TITLE**: 6\n",
    "- **REGULAR**: 644\n",
    "- **RETRO**: 22,150\n",
    "- **OTHER**: 8,423\n",
    "- **OVERTIME**: 15,706\n",
    "- **INJURED**: 21,096\n",
    "- **DETAIL**: 20,493\n",
    "- **QUINN_EDUCATION_INCENTIVE**: 21,166\n",
    "- **TOTAL_GROSS**: 6\n",
    "- **POSTAL**: 6\n",
    "\n",
    "> Y a-t-il des lignes entièrement vides ?\n",
    "\n",
    "Oui, il y en a 6.\n",
    "\n",
    "### Etape 3"
   ]
  },
  {
   "metadata": {},
   "cell_type": "code",
   "outputs": [],
   "execution_count": null,
   "source": ""
  }
 ],
 "metadata": {
  "language_info": {
   "name": "python"
  },
  "kernelspec": {
   "name": "python3",
   "language": "python",
   "display_name": "Python 3 (ipykernel)"
  }
 },
 "nbformat": 4,
 "nbformat_minor": 2
}
