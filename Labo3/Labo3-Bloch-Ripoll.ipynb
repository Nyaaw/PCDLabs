{
 "cells": [
  {
   "cell_type": "code",
   "metadata": {
    "ExecuteTime": {
     "end_time": "2025-03-18T22:03:50.219603Z",
     "start_time": "2025-03-18T22:03:43.608485Z"
    }
   },
   "source": [
    "import matplotlib.pyplot as plt\n",
    "import pandas as pd\n",
    "from sklearn.impute import SimpleImputer, KNNImputer\n",
    "from sklearn.tree import DecisionTreeClassifier\n",
    "from sklearn.ensemble import RandomForestClassifier, IsolationForest\n",
    "from sklearn.metrics import f1_score\n",
    "from sklearn.model_selection import train_test_split\n",
    "from sklearn.neighbors import KNeighborsClassifier\n",
    "from sklearn.experimental import enable_iterative_imputer\n",
    "from sklearn.impute import IterativeImputer\n",
    "from sklearn.preprocessing import LabelEncoder"
   ],
   "outputs": [],
   "execution_count": 1
  },
  {
   "metadata": {
    "ExecuteTime": {
     "end_time": "2025-03-18T22:41:13.471631Z",
     "start_time": "2025-03-18T22:41:13.400808Z"
    }
   },
   "cell_type": "code",
   "source": [
    "# Etape 1 - Chargement des données\n",
    "df = pd.read_csv('./data/employee-earnings-report-2021.csv', encoding='ISO-8859-1')\n",
    "\n",
    "# Etape 2 - On enlève les lignes vides et inutiles\n",
    "df = df.dropna(how='all')\n",
    "\n",
    "# Etape 5 - Préparation des données pour prédiction\n",
    "removed_columns = ['NAME', 'TITLE', 'POSTAL']\n",
    "\n",
    "# Ces colonnes ne sont pas pertinentes pour prédire les valeurs\n",
    "df.drop(removed_columns, axis=1, inplace=True)\n",
    "\n",
    "# Etape 3 - Convertir en valeurs numériques Python\n",
    "numeric_columns = ['REGULAR', 'RETRO', 'OTHER', 'OVERTIME', 'INJURED', 'DETAIL', 'QUINN_EDUCATION_INCENTIVE', 'TOTAL_GROSS']\n",
    "\n",
    "def clean_numeric_column(column):\n",
    "    # On supporte le format numérique monétaire bizarre des états-unis et on convertit en un type numérique Python\n",
    "    return column.apply(lambda x: str(x).replace(',', '') if isinstance(x, str) else x).astype(float)\n",
    "\n",
    "for column in numeric_columns:\n",
    "    df[column] = clean_numeric_column(df[column])"
   ],
   "outputs": [],
   "execution_count": 27
  },
  {
   "metadata": {
    "ExecuteTime": {
     "end_time": "2025-03-18T22:41:15.010990Z",
     "start_time": "2025-03-18T22:41:14.892471Z"
    }
   },
   "cell_type": "code",
   "source": [
    "# Etape 4 - Chercher des données aberrantes\n",
    "\n",
    "model = IsolationForest()\n",
    "\n",
    "df_outliers = df.copy()\n",
    "df_outliers.fillna(0, inplace=True)\n",
    "df_outliers['outlier'] = model.fit_predict(df_outliers[numeric_columns])\n",
    "outliers = df_outliers[df_outliers['outlier'] == -1]\n",
    "outlier_count = len(outliers)\n",
    "\n",
    "outliers_sorted = outliers.sort_values(by=numeric_columns, ascending=False)\n",
    "\n",
    "# Select the 6 most significant outliers\n",
    "top_outliers = outliers_sorted.head(6)\n",
    "\n",
    "# Remove them from the original df\n",
    "df_cleaned = df.drop(top_outliers.index)"
   ],
   "outputs": [],
   "execution_count": 28
  },
  {
   "metadata": {
    "ExecuteTime": {
     "end_time": "2025-03-18T22:42:43.130612Z",
     "start_time": "2025-03-18T22:41:18.245448Z"
    }
   },
   "cell_type": "code",
   "source": [
    "le = LabelEncoder()\n",
    "df['DEPARTMENT_NAME'] = le.fit_transform(df['DEPARTMENT_NAME'].fillna('Unknown'))\n",
    "\n",
    "# Séparation des données en attributs et cible\n",
    "X = df[numeric_columns]\n",
    "y = df['DEPARTMENT_NAME']\n",
    "\n",
    "# Division en ensembles d'entraînement et de test\n",
    "X_train, X_test, y_train, y_test = train_test_split(X, y, test_size=0.1)\n",
    "\n",
    "# Méthodes d'imputation\n",
    "imputers = {\n",
    "    'zero': SimpleImputer(strategy='constant', fill_value=0),\n",
    "    'median': SimpleImputer(strategy='median'),\n",
    "    'KNN': KNNImputer(n_neighbors=5),\n",
    "    'iterative': IterativeImputer(max_iter=10)\n",
    "}\n",
    "\n",
    "# Classifiers\n",
    "classifiers = {\n",
    "    'KNN': KNeighborsClassifier(),\n",
    "    'Decision Tree': DecisionTreeClassifier(),\n",
    "    'Random Forest': RandomForestClassifier()\n",
    "}\n",
    "\n",
    "# Fonction pour évaluer les modèles et calculer les scores F1\n",
    "def evaluate_models(imputer, classifier):\n",
    "    # Applique l'imputation sur l'ensemble d'entraînement\n",
    "    X_train_imputed = imputer.fit_transform(X_train)\n",
    "    X_test_imputed = imputer.transform(X_test)\n",
    "\n",
    "    # Entraînement du classifieur\n",
    "    classifier.fit(X_train_imputed, y_train)\n",
    "\n",
    "    # Prédiction\n",
    "    y_pred = classifier.predict(X_test_imputed)\n",
    "\n",
    "    # Calcul des scores F1 micro et macro\n",
    "    f1_micro = f1_score(y_test, y_pred, average='micro')\n",
    "    f1_macro = f1_score(y_test, y_pred, average='macro')\n",
    "\n",
    "    return f1_micro, f1_macro\n",
    "\n",
    "# Test des combinaisons d'imputation et de classifieurs\n",
    "results = []\n",
    "for imputer_name, imputer in imputers.items():\n",
    "    for clf_name, clf in classifiers.items():\n",
    "        f1_micro, f1_macro = evaluate_models(imputer, clf)\n",
    "        results.append((imputer_name, clf_name, f1_micro, f1_macro))\n",
    "\n",
    "# Conversion des résultats en DataFrame pour affichage\n",
    "results_df = pd.DataFrame(results, columns=['Imputer', 'Classifier', 'F1 Micro', 'F1 Macro'])\n"
   ],
   "outputs": [],
   "execution_count": 29
  },
  {
   "metadata": {
    "ExecuteTime": {
     "end_time": "2025-03-18T22:42:43.175068Z",
     "start_time": "2025-03-18T22:42:43.167655Z"
    }
   },
   "cell_type": "code",
   "source": [
    "# Exercice 7b - Appliquer la classe majoritaire à tous les éléments\n",
    "\n",
    "majority_class = y_train.mode()[0]  # Classe la plus fréquente dans l'ensemble d'entraînement\n",
    "\n",
    "y_pred_majority = [majority_class] * len(y_test)\n",
    "\n",
    "f1_micro_majority = f1_score(y_test, y_pred_majority, average='micro')\n",
    "\n",
    "f1_micro_majority"
   ],
   "outputs": [
    {
     "data": {
      "text/plain": [
       "0.1286031042128603"
      ]
     },
     "execution_count": 30,
     "metadata": {},
     "output_type": "execute_result"
    }
   ],
   "execution_count": 30
  },
  {
   "metadata": {
    "ExecuteTime": {
     "end_time": "2025-03-18T22:43:04.681547Z",
     "start_time": "2025-03-18T22:43:04.614135Z"
    }
   },
   "cell_type": "code",
   "source": [
    "# Affichage sous forme de graphe avec Matplotlib\n",
    "fig, ax = plt.subplots(figsize=(10, 6))\n",
    "\n",
    "imputation_order = ['zero', 'median', 'KNN', 'iterative']\n",
    "\n",
    "pivot_df = results_df.pivot(index='Imputer', columns='Classifier', values='F1 Micro')\n",
    "pivot_df = pivot_df.loc[imputation_order]\n",
    "\n",
    "pivot_df.plot(kind='bar', ax=ax)\n",
    "\n",
    "ax.set_title(\"F1 Scores for Different Imputation Methods and Classifiers\")\n",
    "ax.set_xlabel(\"Imputation Methods\")\n",
    "ax.set_ylabel(\"F1 Score (Micro)\")\n",
    "ax.legend(title=\"Classifiers\")\n",
    "plt.xticks(rotation=45)\n",
    "plt.tight_layout()\n",
    "\n",
    "plt.show()\n",
    "\n",
    "results_df"
   ],
   "outputs": [
    {
     "data": {
      "text/plain": [
       "<Figure size 1000x600 with 1 Axes>"
      ],
      "image/png": "[encoded data removed]"
     },
     "metadata": {},
     "output_type": "display_data"
    },
    {
     "data": {
      "text/plain": [
       "      Imputer     Classifier  F1 Micro  F1 Macro\n",
       "0        zero            KNN  0.244346  0.041296\n",
       "1        zero  Decision Tree  0.279823  0.066715\n",
       "2        zero  Random Forest  0.294900  0.064966\n",
       "3      median            KNN  0.242572  0.041344\n",
       "4      median  Decision Tree  0.277605  0.069625\n",
       "5      median  Random Forest  0.297118  0.069742\n",
       "6         KNN            KNN  0.225277  0.037190\n",
       "7         KNN  Decision Tree  0.262084  0.056497\n",
       "8         KNN  Random Forest  0.278492  0.057578\n",
       "9   iterative            KNN  0.244346  0.044819\n",
       "10  iterative  Decision Tree  0.271397  0.064331\n",
       "11  iterative  Random Forest  0.283370  0.064686"
      ],
      "text/html": [
       "<div>\n",
       "<style scoped>\n",
       "    .dataframe tbody tr th:only-of-type {\n",
       "        vertical-align: middle;\n",
       "    }\n",
       "\n",
       "    .dataframe tbody tr th {\n",
       "        vertical-align: top;\n",
       "    }\n",
       "\n",
       "    .dataframe thead th {\n",
       "        text-align: right;\n",
       "    }\n",
       "</style>\n",
       "<table border=\"1\" class=\"dataframe\">\n",
       "  <thead>\n",
       "    <tr style=\"text-align: right;\">\n",
       "      <th></th>\n",
       "      <th>Imputer</th>\n",
       "      <th>Classifier</th>\n",
       "      <th>F1 Micro</th>\n",
       "      <th>F1 Macro</th>\n",
       "    </tr>\n",
       "  </thead>\n",
       "  <tbody>\n",
       "    <tr>\n",
       "      <th>0</th>\n",
       "      <td>zero</td>\n",
       "      <td>KNN</td>\n",
       "      <td>0.244346</td>\n",
       "      <td>0.041296</td>\n",
       "    </tr>\n",
       "    <tr>\n",
       "      <th>1</th>\n",
       "      <td>zero</td>\n",
       "      <td>Decision Tree</td>\n",
       "      <td>0.279823</td>\n",
       "      <td>0.066715</td>\n",
       "    </tr>\n",
       "    <tr>\n",
       "      <th>2</th>\n",
       "      <td>zero</td>\n",
       "      <td>Random Forest</td>\n",
       "      <td>0.294900</td>\n",
       "      <td>0.064966</td>\n",
       "    </tr>\n",
       "    <tr>\n",
       "      <th>3</th>\n",
       "      <td>median</td>\n",
       "      <td>KNN</td>\n",
       "      <td>0.242572</td>\n",
       "      <td>0.041344</td>\n",
       "    </tr>\n",
       "    <tr>\n",
       "      <th>4</th>\n",
       "      <td>median</td>\n",
       "      <td>Decision Tree</td>\n",
       "      <td>0.277605</td>\n",
       "      <td>0.069625</td>\n",
       "    </tr>\n",
       "    <tr>\n",
       "      <th>5</th>\n",
       "      <td>median</td>\n",
       "      <td>Random Forest</td>\n",
       "      <td>0.297118</td>\n",
       "      <td>0.069742</td>\n",
       "    </tr>\n",
       "    <tr>\n",
       "      <th>6</th>\n",
       "      <td>KNN</td>\n",
       "      <td>KNN</td>\n",
       "      <td>0.225277</td>\n",
       "      <td>0.037190</td>\n",
       "    </tr>\n",
       "    <tr>\n",
       "      <th>7</th>\n",
       "      <td>KNN</td>\n",
       "      <td>Decision Tree</td>\n",
       "      <td>0.262084</td>\n",
       "      <td>0.056497</td>\n",
       "    </tr>\n",
       "    <tr>\n",
       "      <th>8</th>\n",
       "      <td>KNN</td>\n",
       "      <td>Random Forest</td>\n",
       "      <td>0.278492</td>\n",
       "      <td>0.057578</td>\n",
       "    </tr>\n",
       "    <tr>\n",
       "      <th>9</th>\n",
       "      <td>iterative</td>\n",
       "      <td>KNN</td>\n",
       "      <td>0.244346</td>\n",
       "      <td>0.044819</td>\n",
       "    </tr>\n",
       "    <tr>\n",
       "      <th>10</th>\n",
       "      <td>iterative</td>\n",
       "      <td>Decision Tree</td>\n",
       "      <td>0.271397</td>\n",
       "      <td>0.064331</td>\n",
       "    </tr>\n",
       "    <tr>\n",
       "      <th>11</th>\n",
       "      <td>iterative</td>\n",
       "      <td>Random Forest</td>\n",
       "      <td>0.283370</td>\n",
       "      <td>0.064686</td>\n",
       "    </tr>\n",
       "  </tbody>\n",
       "</table>\n",
       "</div>"
      ]
     },
     "execution_count": 34,
     "metadata": {},
     "output_type": "execute_result"
    }
   ],
   "execution_count": 34
  },
  {
   "metadata": {},
   "cell_type": "markdown",
   "source": [
    "## Questions & Réponses\n",
    "\n",
    "### Etape 2\n",
    "\n",
    "> Combien de lignes et de colonnes a le Data Frame ?\n",
    "\n",
    "`22552` lignes et `12` colonnes.\n",
    "\n",
    "> Pour chaque colonne, combien y a-t-il de\n",
    "données manquantes ?\n",
    "\n",
    "- **NAME**: 6\n",
    "- **DEPARTMENT_NAME**: 6\n",
    "- **TITLE**: 6\n",
    "- **REGULAR**: 644\n",
    "- **RETRO**: 22,150\n",
    "- **OTHER**: 8,423\n",
    "- **OVERTIME**: 15,706\n",
    "- **INJURED**: 21,096\n",
    "- **DETAIL**: 20,493\n",
    "- **QUINN_EDUCATION_INCENTIVE**: 21,166\n",
    "- **TOTAL_GROSS**: 6\n",
    "- **POSTAL**: 6\n",
    "\n",
    "> Y a-t-il des lignes entièrement vides ?\n",
    "\n",
    "Oui, il y en a 6.\n",
    "\n",
    "### Etape 6\n",
    "\n",
    "> Existe-t-il des classifieurs dans Scikit-learn qui acceptent des données manquantes ?\n",
    "\n",
    "Oui, nous avons trouvé ce classifieur dans la doc de scikit-learn :\n",
    "\n",
    "**HistGradientBoostingClassifier** ([Documentation](https://scikit-learn.org/stable/modules/generated/sklearn.ensemble.HistGradientBoostingClassifier.html))\n",
    "\n",
    "### Etape 7\n",
    "\n",
    "> Si on attribue à tous les items la classe majoritaire, quel score F1 avec micro-moyenne obtient-on ? (On peut répondre par un simple calcul.)\n",
    "\n",
    "En faisant ainsi, le score f1 avec micro-moyenne sera relativement petit étant donné que la précision ET le rappel seront les deux petits (et que le score se calcule en faisant `2(precision*rappel)/(precision+rappel)` ).\n",
    "\n",
    "> Quelle est la combinaison parmi les 12 qui a le meilleur score F1 avec micro-moyenne ?\n",
    "\n",
    "La meilleure combinaison est la Random Forest combinée avec une valeur à zéro pour les valeurs manquantes (0.27184035476718404) mais tout juste devant la Random Forest combinée avec la valeur de la moyenne (0.2713968957871397).\n",
    "\n",
    "> Comment se comparent les scores F1 avec micro-moyenne par rapport à ceux calculés avec une macro-moyenne\n",
    "\n",
    "Ici, les scores F1 avec micro-moyenne sont toujours plus élevés que ceux avec macro-moyenne. Cela est très certainement dû au fait que la micro-moyenne privilégie les classes majoritaires, alors que la macro-moyenne met en avant la performance globale de toutes les classes, un processus qui peut être pénalisé si le modèle rencontre des classes moins fréquentes.\n",
    "\n",
    "> Commentez brièvement les scores observés et leur différences.\n",
    "\n",
    "Concernant les f1 micro-scores on peut clairement identifier un ordre de performance pour les classifiers : Random Forest > Decision Tree > KNN\n",
    "Pour les imputers, c'est KNN qui est nettement moins performant que les autres, avec zero très souvent à la meilleure place.\n",
    "\n",
    "Si l'on écarte le classifier KNN qui impacte fortement les résultats, on remarque quelque chose d'intéressant concernant les f1 macro-scores : L'ordre est clair cet fois-ci, c'est median > zero > iterative > KNN de manière très distincte.\n",
    "\n",
    "\n"
   ]
  },
  {
   "metadata": {},
   "cell_type": "markdown",
   "source": ""
  },
  {
   "metadata": {
    "ExecuteTime": {
     "end_time": "2025-03-05T13:31:09.744784Z",
     "start_time": "2025-03-05T13:31:09.743376Z"
    }
   },
   "cell_type": "code",
   "source": "",
   "outputs": [],
   "execution_count": null
  }
 ],
 "metadata": {
  "language_info": {
   "name": "python"
  },
  "kernelspec": {
   "name": "python3",
   "language": "python",
   "display_name": "Python 3 (ipykernel)"
  }
 },
 "nbformat": 4,
 "nbformat_minor": 2
}
