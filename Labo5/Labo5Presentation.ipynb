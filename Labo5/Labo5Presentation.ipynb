{
 "cells": [
  {
   "metadata": {},
   "cell_type": "markdown",
   "source": "### Part 1 - Introduction",
   "id": "f77b4a86eb2fab18"
  },
  {
   "metadata": {},
   "cell_type": "code",
   "outputs": [],
   "execution_count": null,
   "source": "",
   "id": "b313f887fae7e6d5"
  },
  {
   "metadata": {},
   "cell_type": "markdown",
   "source": [
    "### Part 2 - Scikit learn demo\n",
    "#### Part 2.1 - Base code"
   ],
   "id": "c2dd79de1057338a"
  },
  {
   "metadata": {},
   "cell_type": "code",
   "outputs": [],
   "execution_count": null,
   "source": "",
   "id": "2d57fcd181bddf52"
  },
  {
   "metadata": {},
   "cell_type": "markdown",
   "source": "#### Part 2.2 - Comparison with different methods",
   "id": "3bcc9244a2d4729a"
  },
  {
   "metadata": {},
   "cell_type": "code",
   "outputs": [],
   "execution_count": null,
   "source": "",
   "id": "413bab8ffaa3835b"
  }
 ],
 "metadata": {
  "kernelspec": {
   "display_name": ".venv",
   "language": "python",
   "name": "python3"
  },
  "language_info": {
   "name": "python",
   "version": "3.12.3"
  }
 },
 "nbformat": 4,
 "nbformat_minor": 5
}
