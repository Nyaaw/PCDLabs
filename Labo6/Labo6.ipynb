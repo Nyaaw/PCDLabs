{
 "cells": [
  {
   "metadata": {
    "ExecuteTime": {
     "end_time": "2025-05-13T05:02:11.794351Z",
     "start_time": "2025-05-13T05:02:01.264017Z"
    }
   },
   "cell_type": "code",
   "source": [
    "import nltk\n",
    "from sklearn.metrics import f1_score\n",
    "\n",
    "nltk.download('reuters')"
   ],
   "id": "9a34992c1b1bcff",
   "outputs": [
    {
     "name": "stderr",
     "output_type": "stream",
     "text": [
      "[nltk_data] Downloading package reuters to\n",
      "[nltk_data]     /Users/aurelien/nltk_data...\n",
      "[nltk_data]   Package reuters is already up-to-date!\n"
     ]
    },
    {
     "data": {
      "text/plain": [
       "True"
      ]
     },
     "execution_count": 1,
     "metadata": {},
     "output_type": "execute_result"
    }
   ],
   "execution_count": 1
  },
  {
   "metadata": {
    "ExecuteTime": {
     "end_time": "2025-05-13T05:02:55.976960Z",
     "start_time": "2025-05-13T05:02:55.973496Z"
    }
   },
   "cell_type": "code",
   "source": [
    "from nltk.corpus import reuters\n",
    "print('training files : ', len([fid for fid in reuters.fileids() if fid[:5] == 'train']))\n",
    "print('testing files : ', len([fid for fid in reuters.fileids() if fid[:4] == 'test']))"
   ],
   "id": "b39c8ae7777f0cea",
   "outputs": [
    {
     "name": "stdout",
     "output_type": "stream",
     "text": [
      "training files :  7769\n",
      "testing files :  3019\n"
     ]
    }
   ],
   "execution_count": 4
  },
  {
   "metadata": {
    "ExecuteTime": {
     "end_time": "2025-05-13T05:03:03.166573Z",
     "start_time": "2025-05-13T05:03:03.161720Z"
    }
   },
   "cell_type": "code",
   "source": [
    "# Fonction pour obtenir le texte du document en supprimant les sauts de ligne '\\n'\n",
    "def get_text(fileid):\n",
    "    return reuters.raw(fileid).replace('\\n', ' ')\n",
    "\n",
    "# Fonction qui retourne le label 1 pour 'grain' et 0 sinon\n",
    "def get_label(fileid):\n",
    "    return 1 if 'grain' in reuters.categories(fileid) else 0"
   ],
   "id": "e57f17a7f55b5454",
   "outputs": [],
   "execution_count": 5
  },
  {
   "metadata": {
    "ExecuteTime": {
     "end_time": "2025-05-13T05:03:37.117411Z",
     "start_time": "2025-05-13T05:03:36.366870Z"
    }
   },
   "cell_type": "code",
   "source": [
    "import pandas as pd\n",
    "from nltk.corpus import reuters\n",
    "\n",
    "# Récupération des différents documents en fonction du nom de fichier\n",
    "train_data = [[get_text(fileid), get_label(fileid)] for fileid in reuters.fileids() if fileid.startswith('train')]\n",
    "test_data = [[get_text(fileid), get_label(fileid)] for fileid in reuters.fileids() if fileid.startswith('test')]\n",
    "\n",
    "# Création des DataFrames pandas\n",
    "train = pd.DataFrame(train_data, columns=['text', 'label'])\n",
    "test = pd.DataFrame(test_data, columns=['text', 'label'])"
   ],
   "id": "e450f5f83046b78",
   "outputs": [],
   "execution_count": 9
  },
  {
   "metadata": {
    "jupyter": {
     "is_executing": true
    },
    "ExecuteTime": {
     "start_time": "2025-05-13T05:13:54.055761Z"
    }
   },
   "cell_type": "code",
   "source": [
    "from time import time\n",
    "from sklearn.linear_model import SGDClassifier\n",
    "from sklearn.naive_bayes import ComplementNB\n",
    "from sklearn.pipeline import Pipeline\n",
    "import numpy as np\n",
    "from pprint import pprint\n",
    "from sklearn.model_selection import GridSearchCV\n",
    "from sklearn.feature_extraction.text import TfidfVectorizer, CountVectorizer\n",
    "\n",
    "default_pipeline = Pipeline(\n",
    "    [\n",
    "        (\"vect\", TfidfVectorizer()),\n",
    "        (\"clf\", ComplementNB()),\n",
    "    ]\n",
    ")\n",
    "\n",
    "experimental_pipeline = Pipeline(\n",
    "    [\n",
    "        (\"vect\", CountVectorizer()),\n",
    "        (\"clf\", SGDClassifier(loss='hinge'))\n",
    "    ]\n",
    ")\n",
    "\n",
    "parameter_grid_default = {\n",
    "    \"vect__max_df\": (0.2, 0.4, 0.6, 0.8, 1.0),\n",
    "    \"vect__min_df\": (1, 3, 5, 10),\n",
    "    \"vect__ngram_range\": ((1, 1), (1, 2)),  # unigrams or bigrams\n",
    "    \"vect__norm\": (\"l1\", \"l2\"),  # normalization options for TFIDF\n",
    "    \"clf__alpha\": np.logspace(-6, 6, 13),\n",
    "}\n",
    "\n",
    "# Define the parameter grid for the experimental pipeline (with CountVectorizer)\n",
    "parameter_grid_experimental = {\n",
    "    \"vect__max_df\": (0.2, 0.4, 0.6, 0.8, 1.0),\n",
    "    \"vect__min_df\": (1, 3, 5, 10),\n",
    "    \"vect__ngram_range\": ((1, 1), (1, 2)),  # unigrams or bigrams\n",
    "    \"clf__alpha\": np.logspace(-6, 6, 13),\n",
    "}\n",
    "\n",
    "def set_search(experimental=False):\n",
    "    pipeline = experimental_pipeline if experimental else default_pipeline\n",
    "    parameter_grid = parameter_grid_experimental if experimental else parameter_grid_default\n",
    "\n",
    "    print(\"Selecting pipeline...\")\n",
    "    print(pipeline)\n",
    "\n",
    "    return [GridSearchCV(pipeline, parameter_grid, scoring='f1_micro'), parameter_grid]\n",
    "\n",
    "def test_data(search):\n",
    "    print(\"Evaluating pipeline...\")\n",
    "    start = time()\n",
    "    search.fit(train['text'], train['label'])\n",
    "    end = time()\n",
    "    print(f\"Training time: {end - start:.3f}s\")\n",
    "\n",
    "    test_accuracy = search.score(test['text'], test['label'])\n",
    "\n",
    "    print(f\"Accuracy on test set: {test_accuracy:.3f}\")\n",
    "\n",
    "def display_params(search, parameter_grid):\n",
    "    print(\"Best parameters combination found:\")\n",
    "    best_parameters = search.best_estimator_.get_params()\n",
    "    for param_name in sorted(parameter_grid.keys()):\n",
    "        print(f\"{param_name}: {best_parameters[param_name]}\")\n",
    "\n",
    "def search_best_parameters(experimental=False):\n",
    "    [search, parameter_grid] = set_search(experimental)\n",
    "\n",
    "    test_data(search)\n",
    "    display_params(search, parameter_grid)\n",
    "\n",
    "for experimental in [False, True]:\n",
    "    search_best_parameters(experimental)\n",
    "\n",
    "#TODO :\n",
    "# 1) Présenter le score f1 sur l'ensemble de test avec la meilleure configuration trouvée\n",
    "# 2) Présenter la loss et l'accuracy\n",
    "# 3) Pourquoi pas ajouter une matrice de confusion sur les résultats de la classe \"grain\""
   ],
   "id": "88490aebbeed1f1c",
   "outputs": [
    {
     "name": "stdout",
     "output_type": "stream",
     "text": [
      "Selecting pipeline...\n",
      "Pipeline(steps=[('vect', TfidfVectorizer()), ('clf', ComplementNB())])\n",
      "Evaluating pipeline...\n"
     ]
    }
   ],
   "execution_count": null
  },
  {
   "metadata": {},
   "cell_type": "code",
   "outputs": [],
   "execution_count": null,
   "source": "",
   "id": "5da480371c1b845"
  }
 ],
 "metadata": {
  "kernelspec": {
   "display_name": ".venv",
   "language": "python",
   "name": "python3"
  },
  "language_info": {
   "name": "python",
   "version": "3.12.3"
  }
 },
 "nbformat": 4,
 "nbformat_minor": 5
}
